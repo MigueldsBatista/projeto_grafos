{
 "cells": [
  {
   "cell_type": "code",
   "execution_count": null,
   "id": "620813c3",
   "metadata": {},
   "outputs": [
    {
     "data": {
      "application/vnd.microsoft.datawrangler.viewer.v0+json": {
       "columns": [
        {
         "name": "index",
         "rawType": "int64",
         "type": "integer"
        },
        {
         "name": "full_id",
         "rawType": "object",
         "type": "string"
        },
        {
         "name": "osm_id",
         "rawType": "int64",
         "type": "integer"
        },
        {
         "name": "osm_type",
         "rawType": "object",
         "type": "string"
        },
        {
         "name": "admin_level",
         "rawType": "int64",
         "type": "integer"
        },
        {
         "name": "landuse",
         "rawType": "object",
         "type": "unknown"
        },
        {
         "name": "wikipedia",
         "rawType": "object",
         "type": "unknown"
        },
        {
         "name": "wikidata",
         "rawType": "object",
         "type": "unknown"
        },
        {
         "name": "place",
         "rawType": "object",
         "type": "unknown"
        },
        {
         "name": "type",
         "rawType": "object",
         "type": "string"
        },
        {
         "name": "name",
         "rawType": "object",
         "type": "string"
        },
        {
         "name": "boundary",
         "rawType": "object",
         "type": "string"
        },
        {
         "name": "neighbors",
         "rawType": "object",
         "type": "string"
        }
       ],
       "ref": "2b48d70f-16ab-4e46-8e92-6a6bb9b74006",
       "rows": [
        [
         "0",
         "r4263447",
         "4263447",
         "relation",
         "10",
         null,
         null,
         null,
         null,
         "boundary",
         "Aflitos",
         "administrative",
         "[ \"Rosarinho\", \"Encruzilhada\", \"Espinheiro\", \"Graças\" ]"
        ],
        [
         "1",
         "r4263599",
         "4263599",
         "relation",
         "10",
         null,
         null,
         null,
         null,
         "boundary",
         "Jaqueira",
         "administrative",
         "[ \"Tamarineira\", \"Graças\", \"Torre\", \"Santana\", \"Parnamirim\" ]"
        ],
        [
         "2",
         "r4263892",
         "4263892",
         "relation",
         "10",
         null,
         null,
         null,
         null,
         "boundary",
         "Hipódromo",
         "administrative",
         "[ \"Ponto de Parada\", \"Encruzilhada\", \"Campo Grande\" ]"
        ],
        [
         "3",
         "r4263893",
         "4263893",
         "relation",
         "10",
         null,
         null,
         null,
         null,
         "boundary",
         "Ponto de Parada",
         "administrative",
         "[ \"Hipódromo\", \"Rosarinho\", \"Encruzilhada\", \"Arruda\", \"Campo Grande\" ]"
        ],
        [
         "4",
         "r4263894",
         "4263894",
         "relation",
         "10",
         null,
         null,
         null,
         null,
         "boundary",
         "Rosarinho",
         "administrative",
         "[ \"Aflitos\", \"Ponto de Parada\", \"Tamarineira\", \"Encruzilhada\", \"Graças\", \"Arruda\" ]"
        ]
       ],
       "shape": {
        "columns": 12,
        "rows": 5
       }
      },
      "text/html": [
       "<div>\n",
       "<style scoped>\n",
       "    .dataframe tbody tr th:only-of-type {\n",
       "        vertical-align: middle;\n",
       "    }\n",
       "\n",
       "    .dataframe tbody tr th {\n",
       "        vertical-align: top;\n",
       "    }\n",
       "\n",
       "    .dataframe thead th {\n",
       "        text-align: right;\n",
       "    }\n",
       "</style>\n",
       "<table border=\"1\" class=\"dataframe\">\n",
       "  <thead>\n",
       "    <tr style=\"text-align: right;\">\n",
       "      <th></th>\n",
       "      <th>full_id</th>\n",
       "      <th>osm_id</th>\n",
       "      <th>osm_type</th>\n",
       "      <th>admin_level</th>\n",
       "      <th>landuse</th>\n",
       "      <th>wikipedia</th>\n",
       "      <th>wikidata</th>\n",
       "      <th>place</th>\n",
       "      <th>type</th>\n",
       "      <th>name</th>\n",
       "      <th>boundary</th>\n",
       "      <th>neighbors</th>\n",
       "    </tr>\n",
       "  </thead>\n",
       "  <tbody>\n",
       "    <tr>\n",
       "      <th>0</th>\n",
       "      <td>r4263447</td>\n",
       "      <td>4263447</td>\n",
       "      <td>relation</td>\n",
       "      <td>10</td>\n",
       "      <td>NaN</td>\n",
       "      <td>NaN</td>\n",
       "      <td>NaN</td>\n",
       "      <td>NaN</td>\n",
       "      <td>boundary</td>\n",
       "      <td>Aflitos</td>\n",
       "      <td>administrative</td>\n",
       "      <td>[ \"Rosarinho\", \"Encruzilhada\", \"Espinheiro\", \"...</td>\n",
       "    </tr>\n",
       "    <tr>\n",
       "      <th>1</th>\n",
       "      <td>r4263599</td>\n",
       "      <td>4263599</td>\n",
       "      <td>relation</td>\n",
       "      <td>10</td>\n",
       "      <td>NaN</td>\n",
       "      <td>NaN</td>\n",
       "      <td>NaN</td>\n",
       "      <td>NaN</td>\n",
       "      <td>boundary</td>\n",
       "      <td>Jaqueira</td>\n",
       "      <td>administrative</td>\n",
       "      <td>[ \"Tamarineira\", \"Graças\", \"Torre\", \"Santana\",...</td>\n",
       "    </tr>\n",
       "    <tr>\n",
       "      <th>2</th>\n",
       "      <td>r4263892</td>\n",
       "      <td>4263892</td>\n",
       "      <td>relation</td>\n",
       "      <td>10</td>\n",
       "      <td>NaN</td>\n",
       "      <td>NaN</td>\n",
       "      <td>NaN</td>\n",
       "      <td>NaN</td>\n",
       "      <td>boundary</td>\n",
       "      <td>Hipódromo</td>\n",
       "      <td>administrative</td>\n",
       "      <td>[ \"Ponto de Parada\", \"Encruzilhada\", \"Campo Gr...</td>\n",
       "    </tr>\n",
       "    <tr>\n",
       "      <th>3</th>\n",
       "      <td>r4263893</td>\n",
       "      <td>4263893</td>\n",
       "      <td>relation</td>\n",
       "      <td>10</td>\n",
       "      <td>NaN</td>\n",
       "      <td>NaN</td>\n",
       "      <td>NaN</td>\n",
       "      <td>NaN</td>\n",
       "      <td>boundary</td>\n",
       "      <td>Ponto de Parada</td>\n",
       "      <td>administrative</td>\n",
       "      <td>[ \"Hipódromo\", \"Rosarinho\", \"Encruzilhada\", \"A...</td>\n",
       "    </tr>\n",
       "    <tr>\n",
       "      <th>4</th>\n",
       "      <td>r4263894</td>\n",
       "      <td>4263894</td>\n",
       "      <td>relation</td>\n",
       "      <td>10</td>\n",
       "      <td>NaN</td>\n",
       "      <td>NaN</td>\n",
       "      <td>NaN</td>\n",
       "      <td>NaN</td>\n",
       "      <td>boundary</td>\n",
       "      <td>Rosarinho</td>\n",
       "      <td>administrative</td>\n",
       "      <td>[ \"Aflitos\", \"Ponto de Parada\", \"Tamarineira\",...</td>\n",
       "    </tr>\n",
       "  </tbody>\n",
       "</table>\n",
       "</div>"
      ],
      "text/plain": [
       "    full_id   osm_id  osm_type  admin_level landuse wikipedia wikidata place  \\\n",
       "0  r4263447  4263447  relation           10     NaN       NaN      NaN   NaN   \n",
       "1  r4263599  4263599  relation           10     NaN       NaN      NaN   NaN   \n",
       "2  r4263892  4263892  relation           10     NaN       NaN      NaN   NaN   \n",
       "3  r4263893  4263893  relation           10     NaN       NaN      NaN   NaN   \n",
       "4  r4263894  4263894  relation           10     NaN       NaN      NaN   NaN   \n",
       "\n",
       "       type             name        boundary  \\\n",
       "0  boundary          Aflitos  administrative   \n",
       "1  boundary         Jaqueira  administrative   \n",
       "2  boundary        Hipódromo  administrative   \n",
       "3  boundary  Ponto de Parada  administrative   \n",
       "4  boundary        Rosarinho  administrative   \n",
       "\n",
       "                                           neighbors  \n",
       "0  [ \"Rosarinho\", \"Encruzilhada\", \"Espinheiro\", \"...  \n",
       "1  [ \"Tamarineira\", \"Graças\", \"Torre\", \"Santana\",...  \n",
       "2  [ \"Ponto de Parada\", \"Encruzilhada\", \"Campo Gr...  \n",
       "3  [ \"Hipódromo\", \"Rosarinho\", \"Encruzilhada\", \"A...  \n",
       "4  [ \"Aflitos\", \"Ponto de Parada\", \"Tamarineira\",...  "
      ]
     },
     "execution_count": 4,
     "metadata": {},
     "output_type": "execute_result"
    }
   ],
   "source": [
    "import pandas as pd\n",
    "\n",
    "from graphs.io import normalize_text\n",
    "df = pd.read_csv('bairros_recife.csv')\n",
    "df.head()\n",
    "\n",
    "normalize_text\n"
   ]
  },
  {
   "cell_type": "code",
   "execution_count": null,
   "id": "b6cbb934",
   "metadata": {},
   "outputs": [
    {
     "name": "stdout",
     "output_type": "stream",
     "text": [
      "<class 'pandas.core.frame.DataFrame'>\n",
      "RangeIndex: 98 entries, 0 to 97\n",
      "Data columns (total 2 columns):\n",
      " #   Column     Non-Null Count  Dtype \n",
      "---  ------     --------------  ----- \n",
      " 0   name       98 non-null     object\n",
      " 1   neighbors  98 non-null     object\n",
      "dtypes: object(2)\n",
      "memory usage: 1.7+ KB\n"
     ]
    }
   ],
   "source": [
    "import ast\n",
    "\n",
    "# drop useless columns\n",
    "\n",
    "df = df.drop(columns=['full_id', 'osm_id', 'osm_type', 'admin_level', 'wikidata', 'wikipedia', 'place', 'boundary', 'type', 'landuse'], errors='ignore')\n",
    "df_pairs = df.assign(neighbor=df['neighbors'].apply(ast.literal_eval)).explode('neighbor')\n",
    "\n",
    "df_pairs = df_pairs.dropna(\n",
    "    subset=['neighbor']\n",
    "    ).reset_index(drop=True)[['name', 'neighbor']]\n",
    "\n",
    "df_pairs.head()\n",
    "df.info()\n",
    "pd.DataFrame(df_pairs).to_csv('bairros_recife_edges.csv', index=False)"
   ]
  }
 ],
 "metadata": {
  "kernelspec": {
   "display_name": "Python 3",
   "language": "python",
   "name": "python3"
  },
  "language_info": {
   "codemirror_mode": {
    "name": "ipython",
    "version": 3
   },
   "file_extension": ".py",
   "mimetype": "text/x-python",
   "name": "python",
   "nbconvert_exporter": "python",
   "pygments_lexer": "ipython3",
   "version": "3.12.3"
  }
 },
 "nbformat": 4,
 "nbformat_minor": 5
}
